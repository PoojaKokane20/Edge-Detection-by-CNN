{
  "cells": [
    {
      "cell_type": "code",
      "execution_count": null,
      "id": "6f3c0e4f",
      "metadata": {
        "id": "6f3c0e4f"
      },
      "outputs": [],
      "source": [
        "import numpy as np\n",
        "import matplotlib.pyplot as plt\n",
        "from PIL import Image\n",
        "\n",
        "def simple_edge_detection(image_path):\n",
        "    # Read the image here it is simple\n",
        "    img = Image.open(image_path).convert('L')  # Convert to grayscale\n",
        "    img_array = np.array(img)\n",
        "\n",
        "    # Define simple edge detection kernels\n",
        "    kernel_x = np.array([[-1, 0, 1],\n",
        "                         [-2, 0, 2],\n",
        "                         [-1, 0, 1]])\n",
        "\n",
        "    kernel_y = np.array([[-1, -2, -1],\n",
        "                         [0, 0, 0],\n",
        "                         [1, 2, 1]])\n",
        "\n",
        "    # Apply convolutions - u know this i have taught u this\n",
        "    edges_x = np.abs(np.convolve(img_array.flatten(), kernel_x.flatten(), mode='same').reshape(img_array.shape))\n",
        "    edges_y = np.abs(np.convolve(img_array.flatten(), kernel_y.flatten(), mode='same').reshape(img_array.shape))\n",
        "\n",
        "    # Combine edges - imp\n",
        "    edges = np.sqrt(edges_x**2 + edges_y**2)\n",
        "\n",
        "    # Normalize for display - simple\n",
        "    edges = (edges - edges.min()) / (edges.max() - edges.min()) * 255\n",
        "\n",
        "    # Display results - u can do this\n",
        "    plt.figure(figsize=(12, 4))\n",
        "\n",
        "    plt.subplot(131), plt.imshow(img_array, cmap='gray')\n",
        "    plt.title('Original Image'), plt.axis('off')\n",
        "\n",
        "    plt.subplot(132), plt.imshow(edges, cmap='gray')\n",
        "    plt.title('Edge Detection'), plt.axis('off')\n",
        "\n",
        "    plt.tight_layout()\n",
        "    plt.show()\n",
        "\n",
        "# Example usage - driver code\n",
        "image_path = './IMG_20200428_185444.jpg'  # Replace with the path to your image\n",
        "simple_edge_detection(image_path)"
      ]
    },
    {
      "cell_type": "code",
      "execution_count": null,
      "id": "05babf0f",
      "metadata": {
        "id": "05babf0f"
      },
      "outputs": [],
      "source": []
    },
    {
      "cell_type": "code",
      "execution_count": null,
      "id": "ae33cef0",
      "metadata": {
        "id": "ae33cef0"
      },
      "outputs": [],
      "source": []
    },
    {
      "cell_type": "code",
      "execution_count": null,
      "id": "74c87af1",
      "metadata": {
        "id": "74c87af1"
      },
      "outputs": [],
      "source": [
        "import numpy as np\n",
        "import matplotlib.pyplot as plt\n",
        "from PIL import Image\n",
        "from scipy.signal import convolve2d\n",
        "\n",
        "def detect_edges(image_path):\n",
        "    # Read the image - simple\n",
        "    img = Image.open(image_path).convert('L')  # Convert to grayscale\n",
        "    img_array = np.array(img)\n",
        "\n",
        "    # Define kernels - also called filters my people\n",
        "    horizontal_kernel = np.array([[-1, -1, -1],\n",
        "                                  [0, 0, 0],\n",
        "                                  [1, 1, 1]])\n",
        "\n",
        "    vertical_kernel = np.array([[-1, 0, 1],\n",
        "                                [-1, 0, 1],\n",
        "                                [-1, 0, 1]])\n",
        "\n",
        "    # Apply convolution using scipy's convolve2d - its a method\n",
        "    horizontal_edges = convolve2d(img_array, horizontal_kernel, mode='same', boundary='symm')\n",
        "    vertical_edges = convolve2d(img_array, vertical_kernel, mode='same', boundary='symm')\n",
        "\n",
        "    # Normalize for display - simplre\n",
        "    horizontal_edges = (horizontal_edges - horizontal_edges.min()) / (horizontal_edges.max() - horizontal_edges.min())\n",
        "    vertical_edges = (vertical_edges - vertical_edges.min()) / (vertical_edges.max() - vertical_edges.min())\n",
        "\n",
        "    return img_array, horizontal_edges, vertical_edges\n",
        "\n",
        "\n",
        "image_path = './IMG_20200428_185444.jpg'  # Replace with your image path\n",
        "\n",
        "# Detect edges\n",
        "original, horizontal, vertical = detect_edges(image_path)\n",
        "\n",
        "# Display results\n",
        "plt.figure(figsize=(15, 5))\n",
        "\n",
        "plt.subplot(131), plt.imshow(original, cmap='gray')\n",
        "plt.title('Original Image'), plt.axis('off')\n",
        "\n",
        "plt.subplot(132), plt.imshow(horizontal, cmap='gray')\n",
        "plt.title('Horizontal Edges'), plt.axis('off')\n",
        "\n",
        "plt.subplot(133), plt.imshow(vertical, cmap='gray')\n",
        "plt.title('Vertical Edges'), plt.axis('off')\n",
        "\n",
        "plt.tight_layout()\n",
        "plt.show()"
      ]
    },
    {
      "cell_type": "code",
      "execution_count": null,
      "id": "b19c9511",
      "metadata": {
        "id": "b19c9511"
      },
      "outputs": [],
      "source": []
    },
    {
      "cell_type": "code",
      "execution_count": null,
      "id": "7e653b07",
      "metadata": {
        "scrolled": true,
        "id": "7e653b07"
      },
      "outputs": [],
      "source": [
        "import numpy as np\n",
        "import matplotlib.pyplot as plt\n",
        "from PIL import Image\n",
        "from scipy.signal import convolve2d\n",
        "\n",
        "def detect_edges(image_path):\n",
        "    # Read the image\n",
        "    img = Image.open(image_path).convert('L')  # Convert to grayscale\n",
        "    img_array = np.array(img)\n",
        "\n",
        "    # Define vertical edge detection kernel\n",
        "    vertical_kernel = np.array([[-1, 0, 1],\n",
        "                                [-1, 0, 1],\n",
        "                                [-1, 0, 1]])\n",
        "\n",
        "    # Apply convolution using scipy's convolve2d\n",
        "    vertical_edges = convolve2d(img_array, vertical_kernel, mode='same', boundary='symm')\n",
        "\n",
        "    # Normalize for display\n",
        "    vertical_edges = (vertical_edges - vertical_edges.min()) / (vertical_edges.max() - vertical_edges.min())\n",
        "\n",
        "    return vertical_edges\n",
        "\n",
        "def max_pooling(image, pool_size=2):\n",
        "    # Ensure even dimensions\n",
        "    h, w = image.shape\n",
        "    h = h - h % pool_size\n",
        "    w = w - w % pool_size\n",
        "    image = image[:h, :w]\n",
        "\n",
        "    return image.reshape(h//pool_size, pool_size, w//pool_size, pool_size).max(axis=(1, 3))\n",
        "\n",
        "# Specify the path to your image\n",
        "image_path = './IMG_20200428_185444.jpg'  # Replace with your image path\n",
        "\n",
        "# Detect edges\n",
        "edge_detected = detect_edges(image_path)\n",
        "\n",
        "# Apply max pooling\n",
        "max_pooled = max_pooling(edge_detected)\n",
        "\n",
        "# Display results\n",
        "plt.figure(figsize=(15, 5))\n",
        "\n",
        "plt.subplot(121)\n",
        "plt.imshow(edge_detected, cmap='gray')\n",
        "plt.title('Vertical Edge Detection')\n",
        "plt.axis('off')\n",
        "\n",
        "plt.subplot(122)\n",
        "plt.imshow(max_pooled, cmap='gray')\n",
        "plt.title('After Max Pooling')\n",
        "plt.axis('off')\n",
        "\n",
        "plt.tight_layout()\n",
        "plt.show()"
      ]
    },
    {
      "cell_type": "code",
      "execution_count": null,
      "id": "1c441318",
      "metadata": {
        "id": "1c441318"
      },
      "outputs": [],
      "source": []
    },
    {
      "cell_type": "code",
      "execution_count": null,
      "id": "9b936119",
      "metadata": {
        "id": "9b936119"
      },
      "outputs": [],
      "source": [
        "np.floor(2.3)"
      ]
    },
    {
      "cell_type": "code",
      "execution_count": null,
      "id": "f9660511",
      "metadata": {
        "id": "f9660511"
      },
      "outputs": [],
      "source": [
        "np.ceil(4.5)"
      ]
    },
    {
      "cell_type": "code",
      "execution_count": null,
      "id": "2245262d",
      "metadata": {
        "id": "2245262d"
      },
      "outputs": [],
      "source": [
        "cascading filter"
      ]
    },
    {
      "cell_type": "code",
      "execution_count": null,
      "id": "71eb2bb7",
      "metadata": {
        "id": "71eb2bb7"
      },
      "outputs": [],
      "source": []
    },
    {
      "cell_type": "code",
      "execution_count": null,
      "id": "a9010ee3",
      "metadata": {
        "id": "a9010ee3"
      },
      "outputs": [],
      "source": [
        "#here i am loading all imp packages\n",
        "import numpy as np\n",
        "from tensorflow.keras import layers, models, callbacks\n",
        "import tensorflow as tf\n",
        "import matplotlib.pyplot as plt"
      ]
    },
    {
      "cell_type": "code",
      "execution_count": null,
      "id": "e4c35b17",
      "metadata": {
        "id": "e4c35b17"
      },
      "outputs": [],
      "source": [
        "#load my dataset\n",
        "(train_images,train_labels),(test_images,test_labels) =  tf.keras.datasets.mnist.load_data()"
      ]
    },
    {
      "cell_type": "code",
      "execution_count": null,
      "id": "89924d34",
      "metadata": {
        "id": "89924d34",
        "outputId": "eb8e3d22-b57c-4572-eb60-877dec8c956b"
      },
      "outputs": [
        {
          "data": {
            "text/plain": [
              "<matplotlib.image.AxesImage at 0x3553cccd0>"
            ]
          },
          "execution_count": 35,
          "metadata": {},
          "output_type": "execute_result"
        },
        {
          "data": {
            "image/png": "[encoded data removed]",
            "text/plain": [
              "<Figure size 500x500 with 1 Axes>"
            ]
          },
          "metadata": {},
          "output_type": "display_data"
        }
      ],
      "source": [
        "#visualize the data that you have loaded here\n",
        "plt.figure(figsize=(5,5))\n",
        "plt.imshow(train_images[1],cmap='gray')"
      ]
    },
    {
      "cell_type": "code",
      "execution_count": null,
      "id": "2a0a3108",
      "metadata": {
        "id": "2a0a3108"
      },
      "outputs": [],
      "source": [
        "# train_images[0]"
      ]
    },
    {
      "cell_type": "code",
      "execution_count": null,
      "id": "e660926f",
      "metadata": {
        "id": "e660926f"
      },
      "outputs": [],
      "source": [
        "#0-255   Normalization   0-1\n",
        "train_images = train_images.astype('float32') / 255\n",
        "test_images = test_images.astype('float32') / 255\n",
        "\n",
        "# train_images[0].ndim"
      ]
    },
    {
      "cell_type": "code",
      "execution_count": null,
      "id": "6028d3f9",
      "metadata": {
        "id": "6028d3f9"
      },
      "outputs": [],
      "source": [
        "# ms-tomar\n",
        "# from sklearn.preprocessing import StandardScaler\n",
        "\n",
        "# # Reshape the data to 2D for StandardScaler\n",
        "# train_images_reshaped = train_images.reshape(train_images.shape[0], -1)\n",
        "# test_images_reshaped = test_images.reshape(test_images.shape[0], -1)\n",
        "\n",
        "# # Initialize StandardScaler and fit it to training data\n",
        "# scaler = StandardScaler()\n",
        "# scaler.fit(train_images_reshaped)\n",
        "\n",
        "# # Transform training and testing data\n",
        "# train_images_scaled = scaler.transform(train_images_reshaped)\n",
        "# test_images_scaled = scaler.transform(test_images_reshaped)\n",
        "\n",
        "# # Reshape the data back to original form\n",
        "# train_images_scaled = train_images_scaled.reshape(train_images.shape)\n",
        "# test_images_scaled = test_images_scaled.reshape(test_images.shape)"
      ]
    },
    {
      "cell_type": "code",
      "execution_count": null,
      "id": "7f7dc023",
      "metadata": {
        "id": "7f7dc023"
      },
      "outputs": [],
      "source": [
        "# train_images_scaled[0]"
      ]
    },
    {
      "cell_type": "code",
      "execution_count": null,
      "id": "e39929f7",
      "metadata": {
        "id": "e39929f7",
        "outputId": "cc0d2efe-3324-4bae-a73d-4d534ee75bbc"
      },
      "outputs": [
        {
          "data": {
            "text/plain": [
              "array([[0.        , 0.        , 0.        , 0.        , 0.        ,\n",
              "        0.        , 0.        , 0.        , 0.        , 0.        ,\n",
              "        0.        , 0.        , 0.        , 0.        , 0.        ,\n",
              "        0.        , 0.        , 0.        , 0.        , 0.        ,\n",
              "        0.        , 0.        , 0.        , 0.        , 0.        ,\n",
              "        0.        , 0.        , 0.        ],\n",
              "       [0.        , 0.        , 0.        , 0.        , 0.        ,\n",
              "        0.        , 0.        , 0.        , 0.        , 0.        ,\n",
              "        0.        , 0.        , 0.        , 0.        , 0.        ,\n",
              "        0.        , 0.        , 0.        , 0.        , 0.        ,\n",
              "        0.        , 0.        , 0.        , 0.        , 0.        ,\n",
              "        0.        , 0.        , 0.        ],\n",
              "       [0.        , 0.        , 0.        , 0.        , 0.        ,\n",
              "        0.        , 0.        , 0.        , 0.        , 0.        ,\n",
              "        0.        , 0.        , 0.        , 0.        , 0.        ,\n",
              "        0.        , 0.        , 0.        , 0.        , 0.        ,\n",
              "        0.        , 0.        , 0.        , 0.        , 0.        ,\n",
              "        0.        , 0.        , 0.        ],\n",
              "       [0.        , 0.        , 0.        , 0.        , 0.        ,\n",
              "        0.        , 0.        , 0.        , 0.        , 0.        ,\n",
              "        0.        , 0.        , 0.        , 0.        , 0.        ,\n",
              "        0.        , 0.        , 0.        , 0.        , 0.        ,\n",
              "        0.        , 0.        , 0.        , 0.        , 0.        ,\n",
              "        0.        , 0.        , 0.        ],\n",
              "       [0.        , 0.        , 0.        , 0.        , 0.        ,\n",
              "        0.        , 0.        , 0.        , 0.        , 0.        ,\n",
              "        0.        , 0.        , 0.        , 0.        , 0.        ,\n",
              "        0.        , 0.        , 0.        , 0.        , 0.        ,\n",
              "        0.        , 0.        , 0.        , 0.        , 0.        ,\n",
              "        0.        , 0.        , 0.        ],\n",
              "       [0.        , 0.        , 0.        , 0.        , 0.        ,\n",
              "        0.        , 0.        , 0.        , 0.        , 0.        ,\n",
              "        0.        , 0.        , 0.01176471, 0.07058824, 0.07058824,\n",
              "        0.07058824, 0.49411765, 0.53333336, 0.6862745 , 0.10196079,\n",
              "        0.6509804 , 1.        , 0.96862745, 0.49803922, 0.        ,\n",
              "        0.        , 0.        , 0.        ],\n",
              "       [0.        , 0.        , 0.        , 0.        , 0.        ,\n",
              "        0.        , 0.        , 0.        , 0.11764706, 0.14117648,\n",
              "        0.36862746, 0.6039216 , 0.6666667 , 0.99215686, 0.99215686,\n",
              "        0.99215686, 0.99215686, 0.99215686, 0.88235295, 0.6745098 ,\n",
              "        0.99215686, 0.9490196 , 0.7647059 , 0.2509804 , 0.        ,\n",
              "        0.        , 0.        , 0.        ],\n",
              "       [0.        , 0.        , 0.        , 0.        , 0.        ,\n",
              "        0.        , 0.        , 0.19215687, 0.93333334, 0.99215686,\n",
              "        0.99215686, 0.99215686, 0.99215686, 0.99215686, 0.99215686,\n",
              "        0.99215686, 0.99215686, 0.9843137 , 0.3647059 , 0.32156864,\n",
              "        0.32156864, 0.21960784, 0.15294118, 0.        , 0.        ,\n",
              "        0.        , 0.        , 0.        ],\n",
              "       [0.        , 0.        , 0.        , 0.        , 0.        ,\n",
              "        0.        , 0.        , 0.07058824, 0.85882354, 0.99215686,\n",
              "        0.99215686, 0.99215686, 0.99215686, 0.99215686, 0.7764706 ,\n",
              "        0.7137255 , 0.96862745, 0.94509804, 0.        , 0.        ,\n",
              "        0.        , 0.        , 0.        , 0.        , 0.        ,\n",
              "        0.        , 0.        , 0.        ],\n",
              "       [0.        , 0.        , 0.        , 0.        , 0.        ,\n",
              "        0.        , 0.        , 0.        , 0.3137255 , 0.6117647 ,\n",
              "        0.41960785, 0.99215686, 0.99215686, 0.8039216 , 0.04313726,\n",
              "        0.        , 0.16862746, 0.6039216 , 0.        , 0.        ,\n",
              "        0.        , 0.        , 0.        , 0.        , 0.        ,\n",
              "        0.        , 0.        , 0.        ],\n",
              "       [0.        , 0.        , 0.        , 0.        , 0.        ,\n",
              "        0.        , 0.        , 0.        , 0.        , 0.05490196,\n",
              "        0.00392157, 0.6039216 , 0.99215686, 0.3529412 , 0.        ,\n",
              "        0.        , 0.        , 0.        , 0.        , 0.        ,\n",
              "        0.        , 0.        , 0.        , 0.        , 0.        ,\n",
              "        0.        , 0.        , 0.        ],\n",
              "       [0.        , 0.        , 0.        , 0.        , 0.        ,\n",
              "        0.        , 0.        , 0.        , 0.        , 0.        ,\n",
              "        0.        , 0.54509807, 0.99215686, 0.74509805, 0.00784314,\n",
              "        0.        , 0.        , 0.        , 0.        , 0.        ,\n",
              "        0.        , 0.        , 0.        , 0.        , 0.        ,\n",
              "        0.        , 0.        , 0.        ],\n",
              "       [0.        , 0.        , 0.        , 0.        , 0.        ,\n",
              "        0.        , 0.        , 0.        , 0.        , 0.        ,\n",
              "        0.        , 0.04313726, 0.74509805, 0.99215686, 0.27450982,\n",
              "        0.        , 0.        , 0.        , 0.        , 0.        ,\n",
              "        0.        , 0.        , 0.        , 0.        , 0.        ,\n",
              "        0.        , 0.        , 0.        ],\n",
              "       [0.        , 0.        , 0.        , 0.        , 0.        ,\n",
              "        0.        , 0.        , 0.        , 0.        , 0.        ,\n",
              "        0.        , 0.        , 0.13725491, 0.94509804, 0.88235295,\n",
              "        0.627451  , 0.42352942, 0.00392157, 0.        , 0.        ,\n",
              "        0.        , 0.        , 0.        , 0.        , 0.        ,\n",
              "        0.        , 0.        , 0.        ],\n",
              "       [0.        , 0.        , 0.        , 0.        , 0.        ,\n",
              "        0.        , 0.        , 0.        , 0.        , 0.        ,\n",
              "        0.        , 0.        , 0.        , 0.31764707, 0.9411765 ,\n",
              "        0.99215686, 0.99215686, 0.46666667, 0.09803922, 0.        ,\n",
              "        0.        , 0.        , 0.        , 0.        , 0.        ,\n",
              "        0.        , 0.        , 0.        ],\n",
              "       [0.        , 0.        , 0.        , 0.        , 0.        ,\n",
              "        0.        , 0.        , 0.        , 0.        , 0.        ,\n",
              "        0.        , 0.        , 0.        , 0.        , 0.1764706 ,\n",
              "        0.7294118 , 0.99215686, 0.99215686, 0.5882353 , 0.10588235,\n",
              "        0.        , 0.        , 0.        , 0.        , 0.        ,\n",
              "        0.        , 0.        , 0.        ],\n",
              "       [0.        , 0.        , 0.        , 0.        , 0.        ,\n",
              "        0.        , 0.        , 0.        , 0.        , 0.        ,\n",
              "        0.        , 0.        , 0.        , 0.        , 0.        ,\n",
              "        0.0627451 , 0.3647059 , 0.9882353 , 0.99215686, 0.73333335,\n",
              "        0.        , 0.        , 0.        , 0.        , 0.        ,\n",
              "        0.        , 0.        , 0.        ],\n",
              "       [0.        , 0.        , 0.        , 0.        , 0.        ,\n",
              "        0.        , 0.        , 0.        , 0.        , 0.        ,\n",
              "        0.        , 0.        , 0.        , 0.        , 0.        ,\n",
              "        0.        , 0.        , 0.9764706 , 0.99215686, 0.9764706 ,\n",
              "        0.2509804 , 0.        , 0.        , 0.        , 0.        ,\n",
              "        0.        , 0.        , 0.        ],\n",
              "       [0.        , 0.        , 0.        , 0.        , 0.        ,\n",
              "        0.        , 0.        , 0.        , 0.        , 0.        ,\n",
              "        0.        , 0.        , 0.        , 0.        , 0.18039216,\n",
              "        0.50980395, 0.7176471 , 0.99215686, 0.99215686, 0.8117647 ,\n",
              "        0.00784314, 0.        , 0.        , 0.        , 0.        ,\n",
              "        0.        , 0.        , 0.        ],\n",
              "       [0.        , 0.        , 0.        , 0.        , 0.        ,\n",
              "        0.        , 0.        , 0.        , 0.        , 0.        ,\n",
              "        0.        , 0.        , 0.15294118, 0.5803922 , 0.8980392 ,\n",
              "        0.99215686, 0.99215686, 0.99215686, 0.98039216, 0.7137255 ,\n",
              "        0.        , 0.        , 0.        , 0.        , 0.        ,\n",
              "        0.        , 0.        , 0.        ],\n",
              "       [0.        , 0.        , 0.        , 0.        , 0.        ,\n",
              "        0.        , 0.        , 0.        , 0.        , 0.        ,\n",
              "        0.09411765, 0.44705883, 0.8666667 , 0.99215686, 0.99215686,\n",
              "        0.99215686, 0.99215686, 0.7882353 , 0.30588236, 0.        ,\n",
              "        0.        , 0.        , 0.        , 0.        , 0.        ,\n",
              "        0.        , 0.        , 0.        ],\n",
              "       [0.        , 0.        , 0.        , 0.        , 0.        ,\n",
              "        0.        , 0.        , 0.        , 0.09019608, 0.25882354,\n",
              "        0.8352941 , 0.99215686, 0.99215686, 0.99215686, 0.99215686,\n",
              "        0.7764706 , 0.31764707, 0.00784314, 0.        , 0.        ,\n",
              "        0.        , 0.        , 0.        , 0.        , 0.        ,\n",
              "        0.        , 0.        , 0.        ],\n",
              "       [0.        , 0.        , 0.        , 0.        , 0.        ,\n",
              "        0.        , 0.07058824, 0.67058825, 0.85882354, 0.99215686,\n",
              "        0.99215686, 0.99215686, 0.99215686, 0.7647059 , 0.3137255 ,\n",
              "        0.03529412, 0.        , 0.        , 0.        , 0.        ,\n",
              "        0.        , 0.        , 0.        , 0.        , 0.        ,\n",
              "        0.        , 0.        , 0.        ],\n",
              "       [0.        , 0.        , 0.        , 0.        , 0.21568628,\n",
              "        0.6745098 , 0.8862745 , 0.99215686, 0.99215686, 0.99215686,\n",
              "        0.99215686, 0.95686275, 0.52156866, 0.04313726, 0.        ,\n",
              "        0.        , 0.        , 0.        , 0.        , 0.        ,\n",
              "        0.        , 0.        , 0.        , 0.        , 0.        ,\n",
              "        0.        , 0.        , 0.        ],\n",
              "       [0.        , 0.        , 0.        , 0.        , 0.53333336,\n",
              "        0.99215686, 0.99215686, 0.99215686, 0.83137256, 0.5294118 ,\n",
              "        0.5176471 , 0.0627451 , 0.        , 0.        , 0.        ,\n",
              "        0.        , 0.        , 0.        , 0.        , 0.        ,\n",
              "        0.        , 0.        , 0.        , 0.        , 0.        ,\n",
              "        0.        , 0.        , 0.        ],\n",
              "       [0.        , 0.        , 0.        , 0.        , 0.        ,\n",
              "        0.        , 0.        , 0.        , 0.        , 0.        ,\n",
              "        0.        , 0.        , 0.        , 0.        , 0.        ,\n",
              "        0.        , 0.        , 0.        , 0.        , 0.        ,\n",
              "        0.        , 0.        , 0.        , 0.        , 0.        ,\n",
              "        0.        , 0.        , 0.        ],\n",
              "       [0.        , 0.        , 0.        , 0.        , 0.        ,\n",
              "        0.        , 0.        , 0.        , 0.        , 0.        ,\n",
              "        0.        , 0.        , 0.        , 0.        , 0.        ,\n",
              "        0.        , 0.        , 0.        , 0.        , 0.        ,\n",
              "        0.        , 0.        , 0.        , 0.        , 0.        ,\n",
              "        0.        , 0.        , 0.        ],\n",
              "       [0.        , 0.        , 0.        , 0.        , 0.        ,\n",
              "        0.        , 0.        , 0.        , 0.        , 0.        ,\n",
              "        0.        , 0.        , 0.        , 0.        , 0.        ,\n",
              "        0.        , 0.        , 0.        , 0.        , 0.        ,\n",
              "        0.        , 0.        , 0.        , 0.        , 0.        ,\n",
              "        0.        , 0.        , 0.        ]], dtype=float32)"
            ]
          },
          "execution_count": 44,
          "metadata": {},
          "output_type": "execute_result"
        }
      ],
      "source": [
        "train_images[0].ndim\n",
        "train_images[0]"
      ]
    },
    {
      "cell_type": "code",
      "execution_count": null,
      "id": "ef220767",
      "metadata": {
        "id": "ef220767"
      },
      "outputs": [],
      "source": [
        "#Reshpe -> 1\n",
        "train_images = train_images.reshape(-1,28,28,1) #do as is\n",
        "test_images = test_images.reshape(-1,28,28,1)"
      ]
    },
    {
      "cell_type": "code",
      "execution_count": null,
      "id": "7f62cde0",
      "metadata": {
        "id": "7f62cde0"
      },
      "outputs": [],
      "source": [
        "#one hot encoding\n",
        "train_labels = tf.keras.utils.to_categorical(train_images)\n",
        "test_labels = tf.keras.utils.to_categorical(test_images)"
      ]
    },
    {
      "cell_type": "code",
      "execution_count": null,
      "id": "7e6a0639",
      "metadata": {
        "id": "7e6a0639",
        "outputId": "6dcc7987-9b71-4c3f-b6d9-8a334280fe41"
      },
      "outputs": [
        {
          "name": "stdout",
          "output_type": "stream",
          "text": [
            "[[1. 0. 0. 0. 0. 0. 0. 0. 0. 0.]\n",
            " [0. 1. 0. 0. 0. 0. 0. 0. 0. 0.]\n",
            " [0. 0. 1. 0. 0. 0. 0. 0. 0. 0.]\n",
            " [0. 0. 0. 1. 0. 0. 0. 0. 0. 0.]\n",
            " [0. 0. 0. 0. 1. 0. 0. 0. 0. 0.]\n",
            " [0. 0. 0. 0. 0. 1. 0. 0. 0. 0.]\n",
            " [0. 0. 0. 0. 0. 0. 1. 0. 0. 0.]\n",
            " [0. 0. 0. 0. 0. 0. 0. 1. 0. 0.]\n",
            " [0. 0. 0. 0. 0. 0. 0. 0. 1. 0.]\n",
            " [0. 0. 0. 0. 0. 0. 0. 0. 0. 1.]]\n"
          ]
        }
      ],
      "source": [
        "# #helper method\n",
        "# a = tf.keras.utils.to_categorical([0,1,2,3,4,5,6,7,8,9], num_classes=10)\n",
        "# print(a)"
      ]
    },
    {
      "cell_type": "code",
      "execution_count": null,
      "id": "6996da90",
      "metadata": {
        "id": "6996da90"
      },
      "outputs": [],
      "source": [
        "#data augumentation  - practical\n",
        "\n",
        "data_augumentation = tf.keras.Sequential([\n",
        "    layers.RandomRotation(0.1),\n",
        "    layers.RandomZoom(0.1)\n",
        "])"
      ]
    }
  ],
  "metadata": {
    "kernelspec": {
      "display_name": "Python 3 (ipykernel)",
      "language": "python",
      "name": "python3"
    },
    "language_info": {
      "codemirror_mode": {
        "name": "ipython",
        "version": 3
      },
      "file_extension": ".py",
      "mimetype": "text/x-python",
      "name": "python",
      "nbconvert_exporter": "python",
      "pygments_lexer": "ipython3",
      "version": "3.11.4"
    },
    "colab": {
      "provenance": []
    }
  },
  "nbformat": 4,
  "nbformat_minor": 5
}